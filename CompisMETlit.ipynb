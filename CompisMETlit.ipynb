{
  "nbformat": 4,
  "nbformat_minor": 0,
  "metadata": {
    "colab": {
      "provenance": [],
      "authorship_tag": "ABX9TyORFBBAGgxUBcV2bDnTaqrI",
      "include_colab_link": true
    },
    "kernelspec": {
      "name": "python3",
      "display_name": "Python 3"
    },
    "language_info": {
      "name": "python"
    }
  },
  "cells": [
    {
      "cell_type": "markdown",
      "metadata": {
        "id": "view-in-github",
        "colab_type": "text"
      },
      "source": [
        "<a href=\"https://colab.research.google.com/github/irfan117/tugaspyhton/blob/main/CompisMETlit.ipynb\" target=\"_parent\"><img src=\"https://colab.research.google.com/assets/colab-badge.svg\" alt=\"Open In Colab\"/></a>"
      ]
    },
    {
      "cell_type": "markdown",
      "source": [
        "import file"
      ],
      "metadata": {
        "id": "GzcHkYTaEUY9"
      }
    },
    {
      "cell_type": "code",
      "source": [
        "from google.colab import files\n",
        "\n",
        "uploaded = files.upload()\n"
      ],
      "metadata": {
        "colab": {
          "base_uri": "https://localhost:8080/",
          "height": 55
        },
        "id": "HZ-PW31f-Peu",
        "outputId": "3e953c5b-e707-43e2-9af4-85592d7f78ee"
      },
      "execution_count": null,
      "outputs": [
        {
          "output_type": "display_data",
          "data": {
            "text/plain": [
              "<IPython.core.display.HTML object>"
            ],
            "text/html": [
              "\n",
              "     <input type=\"file\" id=\"files-e017cee1-171a-4475-a4b1-422853c6ed09\" name=\"files[]\" multiple disabled\n",
              "        style=\"border:none\" />\n",
              "     <output id=\"result-e017cee1-171a-4475-a4b1-422853c6ed09\">\n",
              "      Upload widget is only available when the cell has been executed in the\n",
              "      current browser session. Please rerun this cell to enable.\n",
              "      </output>\n",
              "      <script>// Copyright 2017 Google LLC\n",
              "//\n",
              "// Licensed under the Apache License, Version 2.0 (the \"License\");\n",
              "// you may not use this file except in compliance with the License.\n",
              "// You may obtain a copy of the License at\n",
              "//\n",
              "//      http://www.apache.org/licenses/LICENSE-2.0\n",
              "//\n",
              "// Unless required by applicable law or agreed to in writing, software\n",
              "// distributed under the License is distributed on an \"AS IS\" BASIS,\n",
              "// WITHOUT WARRANTIES OR CONDITIONS OF ANY KIND, either express or implied.\n",
              "// See the License for the specific language governing permissions and\n",
              "// limitations under the License.\n",
              "\n",
              "/**\n",
              " * @fileoverview Helpers for google.colab Python module.\n",
              " */\n",
              "(function(scope) {\n",
              "function span(text, styleAttributes = {}) {\n",
              "  const element = document.createElement('span');\n",
              "  element.textContent = text;\n",
              "  for (const key of Object.keys(styleAttributes)) {\n",
              "    element.style[key] = styleAttributes[key];\n",
              "  }\n",
              "  return element;\n",
              "}\n",
              "\n",
              "// Max number of bytes which will be uploaded at a time.\n",
              "const MAX_PAYLOAD_SIZE = 100 * 1024;\n",
              "\n",
              "function _uploadFiles(inputId, outputId) {\n",
              "  const steps = uploadFilesStep(inputId, outputId);\n",
              "  const outputElement = document.getElementById(outputId);\n",
              "  // Cache steps on the outputElement to make it available for the next call\n",
              "  // to uploadFilesContinue from Python.\n",
              "  outputElement.steps = steps;\n",
              "\n",
              "  return _uploadFilesContinue(outputId);\n",
              "}\n",
              "\n",
              "// This is roughly an async generator (not supported in the browser yet),\n",
              "// where there are multiple asynchronous steps and the Python side is going\n",
              "// to poll for completion of each step.\n",
              "// This uses a Promise to block the python side on completion of each step,\n",
              "// then passes the result of the previous step as the input to the next step.\n",
              "function _uploadFilesContinue(outputId) {\n",
              "  const outputElement = document.getElementById(outputId);\n",
              "  const steps = outputElement.steps;\n",
              "\n",
              "  const next = steps.next(outputElement.lastPromiseValue);\n",
              "  return Promise.resolve(next.value.promise).then((value) => {\n",
              "    // Cache the last promise value to make it available to the next\n",
              "    // step of the generator.\n",
              "    outputElement.lastPromiseValue = value;\n",
              "    return next.value.response;\n",
              "  });\n",
              "}\n",
              "\n",
              "/**\n",
              " * Generator function which is called between each async step of the upload\n",
              " * process.\n",
              " * @param {string} inputId Element ID of the input file picker element.\n",
              " * @param {string} outputId Element ID of the output display.\n",
              " * @return {!Iterable<!Object>} Iterable of next steps.\n",
              " */\n",
              "function* uploadFilesStep(inputId, outputId) {\n",
              "  const inputElement = document.getElementById(inputId);\n",
              "  inputElement.disabled = false;\n",
              "\n",
              "  const outputElement = document.getElementById(outputId);\n",
              "  outputElement.innerHTML = '';\n",
              "\n",
              "  const pickedPromise = new Promise((resolve) => {\n",
              "    inputElement.addEventListener('change', (e) => {\n",
              "      resolve(e.target.files);\n",
              "    });\n",
              "  });\n",
              "\n",
              "  const cancel = document.createElement('button');\n",
              "  inputElement.parentElement.appendChild(cancel);\n",
              "  cancel.textContent = 'Cancel upload';\n",
              "  const cancelPromise = new Promise((resolve) => {\n",
              "    cancel.onclick = () => {\n",
              "      resolve(null);\n",
              "    };\n",
              "  });\n",
              "\n",
              "  // Wait for the user to pick the files.\n",
              "  const files = yield {\n",
              "    promise: Promise.race([pickedPromise, cancelPromise]),\n",
              "    response: {\n",
              "      action: 'starting',\n",
              "    }\n",
              "  };\n",
              "\n",
              "  cancel.remove();\n",
              "\n",
              "  // Disable the input element since further picks are not allowed.\n",
              "  inputElement.disabled = true;\n",
              "\n",
              "  if (!files) {\n",
              "    return {\n",
              "      response: {\n",
              "        action: 'complete',\n",
              "      }\n",
              "    };\n",
              "  }\n",
              "\n",
              "  for (const file of files) {\n",
              "    const li = document.createElement('li');\n",
              "    li.append(span(file.name, {fontWeight: 'bold'}));\n",
              "    li.append(span(\n",
              "        `(${file.type || 'n/a'}) - ${file.size} bytes, ` +\n",
              "        `last modified: ${\n",
              "            file.lastModifiedDate ? file.lastModifiedDate.toLocaleDateString() :\n",
              "                                    'n/a'} - `));\n",
              "    const percent = span('0% done');\n",
              "    li.appendChild(percent);\n",
              "\n",
              "    outputElement.appendChild(li);\n",
              "\n",
              "    const fileDataPromise = new Promise((resolve) => {\n",
              "      const reader = new FileReader();\n",
              "      reader.onload = (e) => {\n",
              "        resolve(e.target.result);\n",
              "      };\n",
              "      reader.readAsArrayBuffer(file);\n",
              "    });\n",
              "    // Wait for the data to be ready.\n",
              "    let fileData = yield {\n",
              "      promise: fileDataPromise,\n",
              "      response: {\n",
              "        action: 'continue',\n",
              "      }\n",
              "    };\n",
              "\n",
              "    // Use a chunked sending to avoid message size limits. See b/62115660.\n",
              "    let position = 0;\n",
              "    do {\n",
              "      const length = Math.min(fileData.byteLength - position, MAX_PAYLOAD_SIZE);\n",
              "      const chunk = new Uint8Array(fileData, position, length);\n",
              "      position += length;\n",
              "\n",
              "      const base64 = btoa(String.fromCharCode.apply(null, chunk));\n",
              "      yield {\n",
              "        response: {\n",
              "          action: 'append',\n",
              "          file: file.name,\n",
              "          data: base64,\n",
              "        },\n",
              "      };\n",
              "\n",
              "      let percentDone = fileData.byteLength === 0 ?\n",
              "          100 :\n",
              "          Math.round((position / fileData.byteLength) * 100);\n",
              "      percent.textContent = `${percentDone}% done`;\n",
              "\n",
              "    } while (position < fileData.byteLength);\n",
              "  }\n",
              "\n",
              "  // All done.\n",
              "  yield {\n",
              "    response: {\n",
              "      action: 'complete',\n",
              "    }\n",
              "  };\n",
              "}\n",
              "\n",
              "scope.google = scope.google || {};\n",
              "scope.google.colab = scope.google.colab || {};\n",
              "scope.google.colab._files = {\n",
              "  _uploadFiles,\n",
              "  _uploadFilesContinue,\n",
              "};\n",
              "})(self);\n",
              "</script> "
            ]
          },
          "metadata": {}
        }
      ]
    },
    {
      "cell_type": "code",
      "source": [
        "from google.colab import files\n",
        "import zipfile\n",
        "import os\n",
        "\n",
        "# Path tempat untuk mengekstrak dataset\n",
        "extract_path = '/content/dataset'  # Ubah sesuai kebutuhan\n",
        "\n",
        "# Membuat folder ekstraksi jika belum ada\n",
        "if not os.path.exists(extract_path):\n",
        "    os.makedirs(extract_path)\n",
        "\n",
        "# Path file zip yang diupload (ras.zip)\n",
        "zip_path = '/content/ras.zip'\n",
        "\n",
        "# Mengekstraksi file zip ke dalam folder dataset\n",
        "with zipfile.ZipFile(zip_path, 'r') as zip_ref:\n",
        "    zip_ref.extractall(extract_path)\n",
        "\n",
        "# Tampilkan daftar file setelah diekstraksi\n",
        "extracted_files = os.listdir(extract_path)\n",
        "print(\"Dataset telah diekstraksi ke:\", extract_path)\n",
        "print(\"Daftar file setelah ekstraksi:\", extracted_files)\n",
        "\n"
      ],
      "metadata": {
        "colab": {
          "base_uri": "https://localhost:8080/"
        },
        "id": "U5GLlk8B9NeZ",
        "outputId": "8705a27b-903c-4c83-fa0e-ba6a989f57a6"
      },
      "execution_count": 15,
      "outputs": [
        {
          "output_type": "stream",
          "name": "stdout",
          "text": [
            "Dataset telah diekstraksi ke: /content/dataset\n",
            "Daftar file setelah ekstraksi: ['ras']\n"
          ]
        }
      ]
    },
    {
      "cell_type": "code",
      "source": [
        "# Tentukan kategori label\n",
        "categories = ['African (Negroid)', 'Australian Aboriginal (Australoid)', 'Austronesia', 'Caucasian (European)', 'East Asian (Mongoloid)', 'Indigenous American (Amerindian)']\n"
      ],
      "metadata": {
        "id": "o9v_KV-Z8eZ3"
      },
      "execution_count": 16,
      "outputs": []
    },
    {
      "cell_type": "code",
      "source": [
        "import os\n",
        "\n",
        "def label_dataset(dataset_path, categories):\n",
        "    labeled_data = []\n",
        "\n",
        "    # Iterasi melalui setiap kategori label\n",
        "    for i, category in enumerate(categories):\n",
        "        category_path = os.path.join(dataset_path, category)\n",
        "\n",
        "        # Iterasi melalui setiap file gambar dalam folder kategori\n",
        "        for filename in os.listdir(category_path):\n",
        "            if filename.endswith('.jpg') or filename.endswith('.png'):\n",
        "                image_path = os.path.join(category_path, filename)\n",
        "                labeled_data.append((image_path, i))  # Tambahkan tuple (path, label)\n",
        "\n",
        "    return labeled_data\n"
      ],
      "metadata": {
        "id": "gQIn66BPCnmH"
      },
      "execution_count": 17,
      "outputs": []
    },
    {
      "cell_type": "code",
      "source": [
        "# Path ke folder dataset yang telah diekstraksi\n",
        "dataset_path = '/content/dataset/ras'\n",
        "\n",
        "# Melabeli dataset\n",
        "labeled_dataset = label_dataset(dataset_path, categories)\n"
      ],
      "metadata": {
        "id": "LG7uH5UYCycX"
      },
      "execution_count": 19,
      "outputs": []
    },
    {
      "cell_type": "code",
      "source": [
        "from sklearn.model_selection import train_test_split\n",
        "\n",
        "# Pisahkan path gambar dan label dari labeled_dataset\n",
        "X = [data[0] for data in labeled_dataset]\n",
        "y = [data[1] for data in labeled_dataset]\n",
        "\n",
        "# Bagi dataset menjadi data pelatihan dan data validasi\n",
        "X_train, X_valid, y_train, y_valid = train_test_split(X, y, test_size=0.2, random_state=42)\n"
      ],
      "metadata": {
        "id": "8hf9kym-DByl"
      },
      "execution_count": 20,
      "outputs": []
    },
    {
      "cell_type": "code",
      "source": [
        "import numpy as np\n",
        "from PIL import Image\n",
        "\n",
        "def preprocess_image(image_path, target_size=(224, 224)):\n",
        "    image = Image.open(image_path)\n",
        "    image = image.resize(target_size)\n",
        "    image = np.array(image) / 255.0  # Normalisasi intensitas piksel\n",
        "    return image\n",
        "\n",
        "# Preprocessing data untuk data pelatihan dan data validasi\n",
        "X_train_processed = np.array([preprocess_image(img_path) for img_path in X_train])\n",
        "X_valid_processed = np.array([preprocess_image(img_path) for img_path in X_valid])\n"
      ],
      "metadata": {
        "id": "TTeSdJcPDF7K"
      },
      "execution_count": 21,
      "outputs": []
    },
    {
      "cell_type": "code",
      "source": [
        "import numpy as np\n",
        "\n",
        "# Konversi list y_train dan y_valid menjadi numpy array\n",
        "y_train = np.array(y_train)\n",
        "y_valid = np.array(y_valid)\n"
      ],
      "metadata": {
        "id": "HqbzJwwwD8Tu"
      },
      "execution_count": 24,
      "outputs": []
    },
    {
      "cell_type": "code",
      "source": [
        "# Latih ulang model menggunakan data pelatihan yang telah diproses\n",
        "model.fit(X_train_processed, y_train, epochs=10, validation_data=(X_valid_processed, y_valid))\n"
      ],
      "metadata": {
        "colab": {
          "base_uri": "https://localhost:8080/"
        },
        "id": "PmyPjiw6EAok",
        "outputId": "8d599f65-e180-4230-8edf-4538ed141e58"
      },
      "execution_count": 25,
      "outputs": [
        {
          "output_type": "stream",
          "name": "stdout",
          "text": [
            "Epoch 1/10\n",
            "3/3 [==============================] - 13s 4s/step - loss: 3.5837 - accuracy: 0.1467 - val_loss: 1.9249 - val_accuracy: 0.2632\n",
            "Epoch 2/10\n",
            "3/3 [==============================] - 12s 3s/step - loss: 1.8618 - accuracy: 0.2400 - val_loss: 1.7472 - val_accuracy: 0.2105\n",
            "Epoch 3/10\n",
            "3/3 [==============================] - 8s 2s/step - loss: 1.7271 - accuracy: 0.2800 - val_loss: 1.5201 - val_accuracy: 0.4211\n",
            "Epoch 4/10\n",
            "3/3 [==============================] - 10s 3s/step - loss: 1.6965 - accuracy: 0.3467 - val_loss: 1.5335 - val_accuracy: 0.4211\n",
            "Epoch 5/10\n",
            "3/3 [==============================] - 7s 2s/step - loss: 1.5284 - accuracy: 0.3467 - val_loss: 1.4474 - val_accuracy: 0.4211\n",
            "Epoch 6/10\n",
            "3/3 [==============================] - 8s 2s/step - loss: 1.3920 - accuracy: 0.3733 - val_loss: 1.2827 - val_accuracy: 0.6842\n",
            "Epoch 7/10\n",
            "3/3 [==============================] - 9s 3s/step - loss: 1.1164 - accuracy: 0.6533 - val_loss: 1.0483 - val_accuracy: 0.7368\n",
            "Epoch 8/10\n",
            "3/3 [==============================] - 7s 2s/step - loss: 0.8173 - accuracy: 0.7733 - val_loss: 1.1235 - val_accuracy: 0.5263\n",
            "Epoch 9/10\n",
            "3/3 [==============================] - 12s 3s/step - loss: 0.5396 - accuracy: 0.8800 - val_loss: 0.9392 - val_accuracy: 0.7895\n",
            "Epoch 10/10\n",
            "3/3 [==============================] - 10s 3s/step - loss: 0.4674 - accuracy: 0.8533 - val_loss: 0.8958 - val_accuracy: 0.6842\n"
          ]
        },
        {
          "output_type": "execute_result",
          "data": {
            "text/plain": [
              "<keras.src.callbacks.History at 0x795580104910>"
            ]
          },
          "metadata": {},
          "execution_count": 25
        }
      ]
    },
    {
      "cell_type": "code",
      "source": [
        "import tensorflow as tf\n",
        "from tensorflow.keras import layers, models\n",
        "\n",
        "# Definisikan model CNN\n",
        "model = models.Sequential([\n",
        "    layers.Conv2D(32, (3, 3), activation='relu', input_shape=(224, 224, 3)),\n",
        "    layers.MaxPooling2D((2, 2)),\n",
        "    layers.Conv2D(64, (3, 3), activation='relu'),\n",
        "    layers.MaxPooling2D((2, 2)),\n",
        "    layers.Conv2D(128, (3, 3), activation='relu'),\n",
        "    layers.MaxPooling2D((2, 2)),\n",
        "    layers.Flatten(),\n",
        "    layers.Dense(128, activation='relu'),\n",
        "    layers.Dense(len(categories), activation='softmax')  # Jumlah output sesuai dengan jumlah kategori label\n",
        "])\n",
        "\n",
        "# Compile model\n",
        "model.compile(optimizer='adam',\n",
        "              loss='sparse_categorical_crossentropy',\n",
        "              metrics=['accuracy'])\n",
        "\n",
        "# Latih model menggunakan data pelatihan\n",
        "model.fit(X_train_processed, y_train, epochs=10, validation_data=(X_valid_processed, y_valid))\n"
      ],
      "metadata": {
        "colab": {
          "base_uri": "https://localhost:8080/"
        },
        "id": "4-lHFBzPDKhp",
        "outputId": "29c1345d-dc31-4fd9-e02f-e659c3b11b8b"
      },
      "execution_count": 26,
      "outputs": [
        {
          "output_type": "stream",
          "name": "stdout",
          "text": [
            "Epoch 1/10\n",
            "3/3 [==============================] - 10s 2s/step - loss: 2.9146 - accuracy: 0.2933 - val_loss: 2.0151 - val_accuracy: 0.1579\n",
            "Epoch 2/10\n",
            "3/3 [==============================] - 10s 4s/step - loss: 1.8365 - accuracy: 0.2800 - val_loss: 1.6901 - val_accuracy: 0.4211\n",
            "Epoch 3/10\n",
            "3/3 [==============================] - 8s 2s/step - loss: 1.6770 - accuracy: 0.3467 - val_loss: 1.5352 - val_accuracy: 0.4211\n",
            "Epoch 4/10\n",
            "3/3 [==============================] - 9s 3s/step - loss: 1.5615 - accuracy: 0.4800 - val_loss: 1.4931 - val_accuracy: 0.4737\n",
            "Epoch 5/10\n",
            "3/3 [==============================] - 8s 3s/step - loss: 1.4091 - accuracy: 0.3600 - val_loss: 1.3735 - val_accuracy: 0.5789\n",
            "Epoch 6/10\n",
            "3/3 [==============================] - 7s 2s/step - loss: 1.1812 - accuracy: 0.7467 - val_loss: 1.2921 - val_accuracy: 0.4211\n",
            "Epoch 7/10\n",
            "3/3 [==============================] - 8s 2s/step - loss: 0.9825 - accuracy: 0.4800 - val_loss: 1.2389 - val_accuracy: 0.5263\n",
            "Epoch 8/10\n",
            "3/3 [==============================] - 8s 3s/step - loss: 0.6993 - accuracy: 0.8800 - val_loss: 1.0472 - val_accuracy: 0.5789\n",
            "Epoch 9/10\n",
            "3/3 [==============================] - 10s 3s/step - loss: 0.4083 - accuracy: 0.8800 - val_loss: 1.2179 - val_accuracy: 0.5263\n",
            "Epoch 10/10\n",
            "3/3 [==============================] - 8s 2s/step - loss: 0.3138 - accuracy: 0.9067 - val_loss: 1.2556 - val_accuracy: 0.4211\n"
          ]
        },
        {
          "output_type": "execute_result",
          "data": {
            "text/plain": [
              "<keras.src.callbacks.History at 0x795564738be0>"
            ]
          },
          "metadata": {},
          "execution_count": 26
        }
      ]
    },
    {
      "cell_type": "code",
      "source": [
        "# Evaluasi model\n",
        "loss, accuracy = model.evaluate(X_valid_processed, y_valid)\n",
        "print(f\"Loss: {loss}\")\n",
        "print(f\"Accuracy: {accuracy}\")\n"
      ],
      "metadata": {
        "colab": {
          "base_uri": "https://localhost:8080/"
        },
        "id": "DMg5CNIXFTPZ",
        "outputId": "1b82aabf-5ddf-46ed-bf6f-864ef1599624"
      },
      "execution_count": 27,
      "outputs": [
        {
          "output_type": "stream",
          "name": "stdout",
          "text": [
            "1/1 [==============================] - 1s 816ms/step - loss: 1.2556 - accuracy: 0.4211\n",
            "Loss: 1.2555662393569946\n",
            "Accuracy: 0.42105263471603394\n"
          ]
        }
      ]
    }
  ]
}