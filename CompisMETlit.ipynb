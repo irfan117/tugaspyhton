{
  "nbformat": 4,
  "nbformat_minor": 0,
  "metadata": {
    "colab": {
      "provenance": [],
      "authorship_tag": "ABX9TyMoLYlMol0fnRgWhY1nDMPI",
      "include_colab_link": true
    },
    "kernelspec": {
      "name": "python3",
      "display_name": "Python 3"
    },
    "language_info": {
      "name": "python"
    }
  },
  "cells": [
    {
      "cell_type": "markdown",
      "metadata": {
        "id": "view-in-github",
        "colab_type": "text"
      },
      "source": [
        "<a href=\"https://colab.research.google.com/github/irfan117/tugaspyhton/blob/main/CompisMETlit.ipynb\" target=\"_parent\"><img src=\"https://colab.research.google.com/assets/colab-badge.svg\" alt=\"Open In Colab\"/></a>"
      ]
    },
    {
      "cell_type": "markdown",
      "source": [
        "import file"
      ],
      "metadata": {
        "id": "GzcHkYTaEUY9"
      }
    },
    {
      "cell_type": "code",
      "source": [
        "from google.colab import files\n",
        "\n",
        "uploaded = files.upload()\n"
      ],
      "metadata": {
        "colab": {
          "base_uri": "https://localhost:8080/",
          "height": 71
        },
        "id": "HZ-PW31f-Peu",
        "outputId": "763478d1-f54e-412a-bf6a-0912b832f301"
      },
      "execution_count": 1,
      "outputs": [
        {
          "output_type": "display_data",
          "data": {
            "text/plain": [
              "<IPython.core.display.HTML object>"
            ],
            "text/html": [
              "\n",
              "     <input type=\"file\" id=\"files-cc8b03be-b387-4971-846c-076bd07befce\" name=\"files[]\" multiple disabled\n",
              "        style=\"border:none\" />\n",
              "     <output id=\"result-cc8b03be-b387-4971-846c-076bd07befce\">\n",
              "      Upload widget is only available when the cell has been executed in the\n",
              "      current browser session. Please rerun this cell to enable.\n",
              "      </output>\n",
              "      <script>// Copyright 2017 Google LLC\n",
              "//\n",
              "// Licensed under the Apache License, Version 2.0 (the \"License\");\n",
              "// you may not use this file except in compliance with the License.\n",
              "// You may obtain a copy of the License at\n",
              "//\n",
              "//      http://www.apache.org/licenses/LICENSE-2.0\n",
              "//\n",
              "// Unless required by applicable law or agreed to in writing, software\n",
              "// distributed under the License is distributed on an \"AS IS\" BASIS,\n",
              "// WITHOUT WARRANTIES OR CONDITIONS OF ANY KIND, either express or implied.\n",
              "// See the License for the specific language governing permissions and\n",
              "// limitations under the License.\n",
              "\n",
              "/**\n",
              " * @fileoverview Helpers for google.colab Python module.\n",
              " */\n",
              "(function(scope) {\n",
              "function span(text, styleAttributes = {}) {\n",
              "  const element = document.createElement('span');\n",
              "  element.textContent = text;\n",
              "  for (const key of Object.keys(styleAttributes)) {\n",
              "    element.style[key] = styleAttributes[key];\n",
              "  }\n",
              "  return element;\n",
              "}\n",
              "\n",
              "// Max number of bytes which will be uploaded at a time.\n",
              "const MAX_PAYLOAD_SIZE = 100 * 1024;\n",
              "\n",
              "function _uploadFiles(inputId, outputId) {\n",
              "  const steps = uploadFilesStep(inputId, outputId);\n",
              "  const outputElement = document.getElementById(outputId);\n",
              "  // Cache steps on the outputElement to make it available for the next call\n",
              "  // to uploadFilesContinue from Python.\n",
              "  outputElement.steps = steps;\n",
              "\n",
              "  return _uploadFilesContinue(outputId);\n",
              "}\n",
              "\n",
              "// This is roughly an async generator (not supported in the browser yet),\n",
              "// where there are multiple asynchronous steps and the Python side is going\n",
              "// to poll for completion of each step.\n",
              "// This uses a Promise to block the python side on completion of each step,\n",
              "// then passes the result of the previous step as the input to the next step.\n",
              "function _uploadFilesContinue(outputId) {\n",
              "  const outputElement = document.getElementById(outputId);\n",
              "  const steps = outputElement.steps;\n",
              "\n",
              "  const next = steps.next(outputElement.lastPromiseValue);\n",
              "  return Promise.resolve(next.value.promise).then((value) => {\n",
              "    // Cache the last promise value to make it available to the next\n",
              "    // step of the generator.\n",
              "    outputElement.lastPromiseValue = value;\n",
              "    return next.value.response;\n",
              "  });\n",
              "}\n",
              "\n",
              "/**\n",
              " * Generator function which is called between each async step of the upload\n",
              " * process.\n",
              " * @param {string} inputId Element ID of the input file picker element.\n",
              " * @param {string} outputId Element ID of the output display.\n",
              " * @return {!Iterable<!Object>} Iterable of next steps.\n",
              " */\n",
              "function* uploadFilesStep(inputId, outputId) {\n",
              "  const inputElement = document.getElementById(inputId);\n",
              "  inputElement.disabled = false;\n",
              "\n",
              "  const outputElement = document.getElementById(outputId);\n",
              "  outputElement.innerHTML = '';\n",
              "\n",
              "  const pickedPromise = new Promise((resolve) => {\n",
              "    inputElement.addEventListener('change', (e) => {\n",
              "      resolve(e.target.files);\n",
              "    });\n",
              "  });\n",
              "\n",
              "  const cancel = document.createElement('button');\n",
              "  inputElement.parentElement.appendChild(cancel);\n",
              "  cancel.textContent = 'Cancel upload';\n",
              "  const cancelPromise = new Promise((resolve) => {\n",
              "    cancel.onclick = () => {\n",
              "      resolve(null);\n",
              "    };\n",
              "  });\n",
              "\n",
              "  // Wait for the user to pick the files.\n",
              "  const files = yield {\n",
              "    promise: Promise.race([pickedPromise, cancelPromise]),\n",
              "    response: {\n",
              "      action: 'starting',\n",
              "    }\n",
              "  };\n",
              "\n",
              "  cancel.remove();\n",
              "\n",
              "  // Disable the input element since further picks are not allowed.\n",
              "  inputElement.disabled = true;\n",
              "\n",
              "  if (!files) {\n",
              "    return {\n",
              "      response: {\n",
              "        action: 'complete',\n",
              "      }\n",
              "    };\n",
              "  }\n",
              "\n",
              "  for (const file of files) {\n",
              "    const li = document.createElement('li');\n",
              "    li.append(span(file.name, {fontWeight: 'bold'}));\n",
              "    li.append(span(\n",
              "        `(${file.type || 'n/a'}) - ${file.size} bytes, ` +\n",
              "        `last modified: ${\n",
              "            file.lastModifiedDate ? file.lastModifiedDate.toLocaleDateString() :\n",
              "                                    'n/a'} - `));\n",
              "    const percent = span('0% done');\n",
              "    li.appendChild(percent);\n",
              "\n",
              "    outputElement.appendChild(li);\n",
              "\n",
              "    const fileDataPromise = new Promise((resolve) => {\n",
              "      const reader = new FileReader();\n",
              "      reader.onload = (e) => {\n",
              "        resolve(e.target.result);\n",
              "      };\n",
              "      reader.readAsArrayBuffer(file);\n",
              "    });\n",
              "    // Wait for the data to be ready.\n",
              "    let fileData = yield {\n",
              "      promise: fileDataPromise,\n",
              "      response: {\n",
              "        action: 'continue',\n",
              "      }\n",
              "    };\n",
              "\n",
              "    // Use a chunked sending to avoid message size limits. See b/62115660.\n",
              "    let position = 0;\n",
              "    do {\n",
              "      const length = Math.min(fileData.byteLength - position, MAX_PAYLOAD_SIZE);\n",
              "      const chunk = new Uint8Array(fileData, position, length);\n",
              "      position += length;\n",
              "\n",
              "      const base64 = btoa(String.fromCharCode.apply(null, chunk));\n",
              "      yield {\n",
              "        response: {\n",
              "          action: 'append',\n",
              "          file: file.name,\n",
              "          data: base64,\n",
              "        },\n",
              "      };\n",
              "\n",
              "      let percentDone = fileData.byteLength === 0 ?\n",
              "          100 :\n",
              "          Math.round((position / fileData.byteLength) * 100);\n",
              "      percent.textContent = `${percentDone}% done`;\n",
              "\n",
              "    } while (position < fileData.byteLength);\n",
              "  }\n",
              "\n",
              "  // All done.\n",
              "  yield {\n",
              "    response: {\n",
              "      action: 'complete',\n",
              "    }\n",
              "  };\n",
              "}\n",
              "\n",
              "scope.google = scope.google || {};\n",
              "scope.google.colab = scope.google.colab || {};\n",
              "scope.google.colab._files = {\n",
              "  _uploadFiles,\n",
              "  _uploadFilesContinue,\n",
              "};\n",
              "})(self);\n",
              "</script> "
            ]
          },
          "metadata": {}
        },
        {
          "output_type": "stream",
          "name": "stdout",
          "text": [
            "Saving ras.zip to ras.zip\n"
          ]
        }
      ]
    },
    {
      "cell_type": "code",
      "source": [
        "from google.colab import files\n",
        "import zipfile\n",
        "import os\n",
        "\n",
        "# Path tempat untuk mengekstrak dataset\n",
        "extract_path = '/content/dataset'  # Ubah sesuai kebutuhan\n",
        "\n",
        "# Membuat folder ekstraksi jika belum ada\n",
        "if not os.path.exists(extract_path):\n",
        "    os.makedirs(extract_path)\n",
        "\n",
        "# Path file zip yang diupload (ras.zip)\n",
        "zip_path = '/content/ras.zip'\n",
        "\n",
        "# Mengekstraksi file zip ke dalam folder dataset\n",
        "with zipfile.ZipFile(zip_path, 'r') as zip_ref:\n",
        "    zip_ref.extractall(extract_path)\n",
        "\n",
        "# Tampilkan daftar file setelah diekstraksi\n",
        "extracted_files = os.listdir(extract_path)\n",
        "print(\"Dataset telah diekstraksi ke:\", extract_path)\n",
        "print(\"Daftar file setelah ekstraksi:\", extracted_files)\n",
        "\n"
      ],
      "metadata": {
        "colab": {
          "base_uri": "https://localhost:8080/"
        },
        "id": "U5GLlk8B9NeZ",
        "outputId": "b4ae9c4b-376c-49b5-d154-eb37e4fce58f"
      },
      "execution_count": 2,
      "outputs": [
        {
          "output_type": "stream",
          "name": "stdout",
          "text": [
            "Dataset telah diekstraksi ke: /content/dataset\n",
            "Daftar file setelah ekstraksi: ['ras']\n"
          ]
        }
      ]
    },
    {
      "cell_type": "code",
      "source": [
        "# Tentukan kategori label\n",
        "categories = ['African', 'American', 'Asia tenggara', 'Asia Timur', 'Eropa']\n"
      ],
      "metadata": {
        "id": "o9v_KV-Z8eZ3"
      },
      "execution_count": 6,
      "outputs": []
    },
    {
      "cell_type": "code",
      "source": [
        "import os\n",
        "\n",
        "def label_dataset(dataset_path, categories):\n",
        "    labeled_data = []\n",
        "\n",
        "    # Iterasi melalui setiap kategori label\n",
        "    for i, category in enumerate(categories):\n",
        "        category_path = os.path.join(dataset_path, category)\n",
        "\n",
        "        # Iterasi melalui setiap file gambar dalam folder kategori\n",
        "        for filename in os.listdir(category_path):\n",
        "            if filename.endswith('.jpg') or filename.endswith('.png'):\n",
        "                image_path = os.path.join(category_path, filename)\n",
        "                labeled_data.append((image_path, i))  # Tambahkan tuple (path, label)\n",
        "\n",
        "    return labeled_data\n"
      ],
      "metadata": {
        "id": "gQIn66BPCnmH"
      },
      "execution_count": 7,
      "outputs": []
    },
    {
      "cell_type": "code",
      "source": [
        "# Path ke folder dataset yang telah diekstraksi\n",
        "dataset_path = '/content/dataset/ras'\n",
        "\n",
        "# Melabeli dataset\n",
        "labeled_dataset = label_dataset(dataset_path, categories)\n"
      ],
      "metadata": {
        "id": "LG7uH5UYCycX"
      },
      "execution_count": 8,
      "outputs": []
    },
    {
      "cell_type": "code",
      "source": [
        "from sklearn.model_selection import train_test_split\n",
        "\n",
        "# Pisahkan path gambar dan label dari labeled_dataset\n",
        "X = [data[0] for data in labeled_dataset]\n",
        "y = [data[1] for data in labeled_dataset]\n",
        "\n",
        "# Bagi dataset menjadi data pelatihan dan data validasi\n",
        "X_train, X_valid, y_train, y_valid = train_test_split(X, y, test_size=0.2, random_state=42)\n"
      ],
      "metadata": {
        "id": "8hf9kym-DByl"
      },
      "execution_count": 9,
      "outputs": []
    },
    {
      "cell_type": "code",
      "source": [
        "import numpy as np\n",
        "from PIL import Image\n",
        "\n",
        "def preprocess_image(image_path, target_size=(224, 224)):\n",
        "    image = Image.open(image_path)\n",
        "    image = image.resize(target_size)\n",
        "    image = np.array(image) / 255.0  # Normalisasi intensitas piksel\n",
        "    return image\n",
        "\n",
        "# Preprocessing data untuk data pelatihan dan data validasi\n",
        "X_train_processed = np.array([preprocess_image(img_path) for img_path in X_train])\n",
        "X_valid_processed = np.array([preprocess_image(img_path) for img_path in X_valid])\n"
      ],
      "metadata": {
        "id": "TTeSdJcPDF7K"
      },
      "execution_count": 10,
      "outputs": []
    },
    {
      "cell_type": "code",
      "source": [
        "import numpy as np\n",
        "\n",
        "# Konversi list y_train dan y_valid menjadi numpy array\n",
        "y_train = np.array(y_train)\n",
        "y_valid = np.array(y_valid)\n"
      ],
      "metadata": {
        "id": "HqbzJwwwD8Tu"
      },
      "execution_count": 11,
      "outputs": []
    },
    {
      "cell_type": "code",
      "source": [
        "import tensorflow as tf\n",
        "from tensorflow.keras import layers, models\n",
        "\n",
        "# Definisikan model CNN\n",
        "model = models.Sequential([\n",
        "    layers.Conv2D(32, (3, 3), activation='relu', input_shape=(224, 224, 3)),\n",
        "    layers.MaxPooling2D((2, 2)),\n",
        "    layers.Conv2D(64, (3, 3), activation='relu'),\n",
        "    layers.MaxPooling2D((2, 2)),\n",
        "    layers.Conv2D(128, (3, 3), activation='relu'),\n",
        "    layers.MaxPooling2D((2, 2)),\n",
        "    layers.Flatten(),\n",
        "    layers.Dense(128, activation='relu'),\n",
        "    layers.Dense(len(categories), activation='softmax')  # Jumlah output sesuai dengan jumlah kategori label\n",
        "])\n",
        "\n",
        "# Compile model\n",
        "model.compile(optimizer='adam',\n",
        "              loss='sparse_categorical_crossentropy',\n",
        "              metrics=['accuracy'])\n",
        "\n",
        "# Latih model menggunakan data pelatihan\n",
        "model.fit(X_train_processed, y_train, epochs=10, validation_data=(X_valid_processed, y_valid))\n"
      ],
      "metadata": {
        "colab": {
          "base_uri": "https://localhost:8080/"
        },
        "id": "4-lHFBzPDKhp",
        "outputId": "f1c14468-4ebd-4860-8f6e-8c7bf9292747"
      },
      "execution_count": 32,
      "outputs": [
        {
          "output_type": "stream",
          "name": "stdout",
          "text": [
            "Epoch 1/10\n",
            "5/5 [==============================] - 20s 4s/step - loss: 2.6259 - accuracy: 0.1875 - val_loss: 1.6019 - val_accuracy: 0.2222\n",
            "Epoch 2/10\n",
            "5/5 [==============================] - 17s 3s/step - loss: 1.5434 - accuracy: 0.2708 - val_loss: 1.9713 - val_accuracy: 0.3056\n",
            "Epoch 3/10\n",
            "5/5 [==============================] - 16s 3s/step - loss: 1.5176 - accuracy: 0.5278 - val_loss: 1.5318 - val_accuracy: 0.3056\n",
            "Epoch 4/10\n",
            "5/5 [==============================] - 17s 3s/step - loss: 1.3572 - accuracy: 0.4028 - val_loss: 1.4434 - val_accuracy: 0.4167\n",
            "Epoch 5/10\n",
            "5/5 [==============================] - 17s 3s/step - loss: 1.0506 - accuracy: 0.6944 - val_loss: 1.4401 - val_accuracy: 0.4167\n",
            "Epoch 6/10\n",
            "5/5 [==============================] - 18s 3s/step - loss: 0.7032 - accuracy: 0.7986 - val_loss: 1.7172 - val_accuracy: 0.4722\n",
            "Epoch 7/10\n",
            "5/5 [==============================] - 16s 3s/step - loss: 0.4871 - accuracy: 0.8264 - val_loss: 1.9325 - val_accuracy: 0.4444\n",
            "Epoch 8/10\n",
            "5/5 [==============================] - 17s 3s/step - loss: 0.3220 - accuracy: 0.9028 - val_loss: 2.3906 - val_accuracy: 0.3333\n",
            "Epoch 9/10\n",
            "5/5 [==============================] - 17s 3s/step - loss: 0.2609 - accuracy: 0.9167 - val_loss: 2.3500 - val_accuracy: 0.3611\n",
            "Epoch 10/10\n",
            "5/5 [==============================] - 17s 3s/step - loss: 0.1135 - accuracy: 0.9653 - val_loss: 2.7279 - val_accuracy: 0.3333\n"
          ]
        },
        {
          "output_type": "execute_result",
          "data": {
            "text/plain": [
              "<keras.src.callbacks.History at 0x7af8fc54bc40>"
            ]
          },
          "metadata": {},
          "execution_count": 32
        }
      ]
    },
    {
      "cell_type": "code",
      "source": [
        "from tensorflow.keras.preprocessing.image import ImageDataGenerator\n",
        "\n",
        "datagen = ImageDataGenerator(\n",
        "    rotation_range=20,\n",
        "    width_shift_range=0.2,\n",
        "    height_shift_range=0.2,\n",
        "    shear_range=0.2,\n",
        "    zoom_range=0.2,\n",
        "    horizontal_flip=True,\n",
        "    fill_mode='nearest'\n",
        ")\n"
      ],
      "metadata": {
        "id": "PCNiH3HKALmi"
      },
      "execution_count": 33,
      "outputs": []
    },
    {
      "cell_type": "code",
      "source": [
        "# Latih ulang model menggunakan data pelatihan yang telah diproses\n",
        "model.fit(X_train_processed, y_train, epochs=10, validation_data=(X_valid_processed, y_valid))\n"
      ],
      "metadata": {
        "colab": {
          "base_uri": "https://localhost:8080/"
        },
        "id": "PmyPjiw6EAok",
        "outputId": "682b9b31-885b-4eee-fefc-244ae0b5c1e8"
      },
      "execution_count": 36,
      "outputs": [
        {
          "output_type": "stream",
          "name": "stdout",
          "text": [
            "Epoch 1/10\n",
            "5/5 [==============================] - 18s 3s/step - loss: 6.0259e-04 - accuracy: 1.0000 - val_loss: 4.9898 - val_accuracy: 0.2778\n",
            "Epoch 2/10\n",
            "5/5 [==============================] - 17s 3s/step - loss: 2.8380e-04 - accuracy: 1.0000 - val_loss: 4.7548 - val_accuracy: 0.3333\n",
            "Epoch 3/10\n",
            "5/5 [==============================] - 17s 3s/step - loss: 1.5068e-04 - accuracy: 1.0000 - val_loss: 5.0715 - val_accuracy: 0.3333\n",
            "Epoch 4/10\n",
            "5/5 [==============================] - 17s 3s/step - loss: 1.3208e-04 - accuracy: 1.0000 - val_loss: 4.8203 - val_accuracy: 0.3889\n",
            "Epoch 5/10\n",
            "5/5 [==============================] - 17s 3s/step - loss: 1.1714e-04 - accuracy: 1.0000 - val_loss: 4.7135 - val_accuracy: 0.3889\n",
            "Epoch 6/10\n",
            "5/5 [==============================] - 17s 3s/step - loss: 1.0033e-04 - accuracy: 1.0000 - val_loss: 4.9802 - val_accuracy: 0.3889\n",
            "Epoch 7/10\n",
            "5/5 [==============================] - 19s 3s/step - loss: 7.9808e-05 - accuracy: 1.0000 - val_loss: 5.3023 - val_accuracy: 0.3889\n",
            "Epoch 8/10\n",
            "5/5 [==============================] - 17s 3s/step - loss: 7.0961e-05 - accuracy: 1.0000 - val_loss: 5.0885 - val_accuracy: 0.3889\n",
            "Epoch 9/10\n",
            "5/5 [==============================] - 16s 3s/step - loss: 6.3668e-05 - accuracy: 1.0000 - val_loss: 5.0484 - val_accuracy: 0.3889\n",
            "Epoch 10/10\n",
            "5/5 [==============================] - 16s 3s/step - loss: 5.9088e-05 - accuracy: 1.0000 - val_loss: 5.1973 - val_accuracy: 0.3889\n"
          ]
        },
        {
          "output_type": "execute_result",
          "data": {
            "text/plain": [
              "<keras.src.callbacks.History at 0x7af8fc344100>"
            ]
          },
          "metadata": {},
          "execution_count": 36
        }
      ]
    },
    {
      "cell_type": "code",
      "source": [
        "# Evaluasi model\n",
        "loss, accuracy = model.evaluate(X_valid_processed, y_valid)\n",
        "print(f\"Loss: {loss}\")\n",
        "print(f\"Accuracy: {accuracy}\")\n"
      ],
      "metadata": {
        "colab": {
          "base_uri": "https://localhost:8080/"
        },
        "id": "DMg5CNIXFTPZ",
        "outputId": "24b59a5a-a523-4739-e7aa-58ec36b9eebe"
      },
      "execution_count": 37,
      "outputs": [
        {
          "output_type": "stream",
          "name": "stdout",
          "text": [
            "2/2 [==============================] - 1s 105ms/step - loss: 5.1973 - accuracy: 0.3889\n",
            "Loss: 5.197301864624023\n",
            "Accuracy: 0.3888888955116272\n"
          ]
        }
      ]
    },
    {
      "cell_type": "code",
      "source": [
        "# Simpan model ke file\n",
        "model.save('/content/race_identification_model.h5')\n"
      ],
      "metadata": {
        "id": "rRj_74U58JJe"
      },
      "execution_count": 41,
      "outputs": []
    },
    {
      "cell_type": "code",
      "source": [
        "from google.colab import files\n",
        "\n",
        "# Unduh file model ke perangkat lokal\n",
        "files.download('race_identification_model.h5')\n"
      ],
      "metadata": {
        "id": "5AeFRDhi8p8l",
        "outputId": "7185ffaf-9e2e-413a-d85b-aaef2dc1f581",
        "colab": {
          "base_uri": "https://localhost:8080/",
          "height": 17
        }
      },
      "execution_count": 42,
      "outputs": [
        {
          "output_type": "display_data",
          "data": {
            "text/plain": [
              "<IPython.core.display.Javascript object>"
            ],
            "application/javascript": [
              "\n",
              "    async function download(id, filename, size) {\n",
              "      if (!google.colab.kernel.accessAllowed) {\n",
              "        return;\n",
              "      }\n",
              "      const div = document.createElement('div');\n",
              "      const label = document.createElement('label');\n",
              "      label.textContent = `Downloading \"${filename}\": `;\n",
              "      div.appendChild(label);\n",
              "      const progress = document.createElement('progress');\n",
              "      progress.max = size;\n",
              "      div.appendChild(progress);\n",
              "      document.body.appendChild(div);\n",
              "\n",
              "      const buffers = [];\n",
              "      let downloaded = 0;\n",
              "\n",
              "      const channel = await google.colab.kernel.comms.open(id);\n",
              "      // Send a message to notify the kernel that we're ready.\n",
              "      channel.send({})\n",
              "\n",
              "      for await (const message of channel.messages) {\n",
              "        // Send a message to notify the kernel that we're ready.\n",
              "        channel.send({})\n",
              "        if (message.buffers) {\n",
              "          for (const buffer of message.buffers) {\n",
              "            buffers.push(buffer);\n",
              "            downloaded += buffer.byteLength;\n",
              "            progress.value = downloaded;\n",
              "          }\n",
              "        }\n",
              "      }\n",
              "      const blob = new Blob(buffers, {type: 'application/binary'});\n",
              "      const a = document.createElement('a');\n",
              "      a.href = window.URL.createObjectURL(blob);\n",
              "      a.download = filename;\n",
              "      div.appendChild(a);\n",
              "      a.click();\n",
              "      div.remove();\n",
              "    }\n",
              "  "
            ]
          },
          "metadata": {}
        },
        {
          "output_type": "display_data",
          "data": {
            "text/plain": [
              "<IPython.core.display.Javascript object>"
            ],
            "application/javascript": [
              "download(\"download_26c05ebd-1e16-4de6-a638-176db881e944\", \"race_identification_model.h5\", 134088232)"
            ]
          },
          "metadata": {}
        }
      ]
    }
  ]
}